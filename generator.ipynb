{
 "cells": [
  {
   "cell_type": "code",
   "execution_count": 6,
   "metadata": {},
   "outputs": [
    {
     "name": "stdout",
     "output_type": "stream",
     "text": [
      "WorkingTime[run_sort]: 4.58145 ms\n"
     ]
    }
   ],
   "source": [
    "import numpy as np\n",
    "from random import seed\n",
    "import copy, random\n",
    "import time\n",
    "import subprocess\n",
    "\n",
    "\n",
    "types = [\"insertionsort.cpp\", \"mergesort.cpp\",\n",
    "         \"qsort.cpp\", \"nlognqsort.cpp\",\n",
    "         \"heapsort.cpp\", \"stringsort.cpp\",\n",
    "         \"stringbinsearchsort.cpp\", \"skiplistsort.cpp\"]\n",
    "\n",
    "def logging_time(original_fn):\n",
    "    def wrapper_fn(*args, **kwargs):\n",
    "        start_time = time.time()\n",
    "        result = original_fn(*args, **kwargs)\n",
    "        elapsed_time = (time.time() - start_time) * 1e3\n",
    "        print(\"WorkingTime[{}]: {:.5f} ms\".format(original_fn.__name__, elapsed_time - 1))\n",
    "        return result\n",
    "    return wrapper_fn\n",
    "\n",
    "@logging_time\n",
    "def run_sort(command, input_data):\n",
    "    subprocess.run(command, input=input_data, text=True, stdout=subprocess.PIPE, shell=True)\n",
    "\n",
    "def run_sort_print(command, input_data):\n",
    "    res = subprocess.run(command, input=input_data, text=True, stdout=subprocess.PIPE, shell=True)\n",
    "    output = res.stdout\n",
    "    print(output)\n",
    "\n",
    "compile_command = f\"g++ {types[0]} -o test\"\n",
    "subprocess.run(compile_command, shell=True)\n",
    "exec_command  = \"./test\"\n",
    "input_data = \"3 10 9 8\"\n",
    "run_sort(exec_command, input_data)"
   ]
  }
 ],
 "metadata": {
  "kernelspec": {
   "display_name": "Python 3",
   "language": "python",
   "name": "python3"
  },
  "language_info": {
   "codemirror_mode": {
    "name": "ipython",
    "version": 3
   },
   "file_extension": ".py",
   "mimetype": "text/x-python",
   "name": "python",
   "nbconvert_exporter": "python",
   "pygments_lexer": "ipython3",
   "version": "3.11.5"
  }
 },
 "nbformat": 4,
 "nbformat_minor": 2
}
